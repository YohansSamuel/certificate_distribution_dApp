{
 "cells": [
  {
   "cell_type": "code",
   "execution_count": 15,
   "metadata": {},
   "outputs": [],
   "source": [
    "# ! pip3 install py-algorand-sdk"
   ]
  },
  {
   "cell_type": "code",
   "execution_count": 16,
   "metadata": {},
   "outputs": [],
   "source": [
    "\n",
    "import json\n",
    "import base64\n",
    "from algosdk.future import transaction\n",
    "from algosdk import constants\n",
    "from algosdk import account, mnemonic\n",
    "from algosdk.v2client import algod"
   ]
  },
  {
   "cell_type": "code",
   "execution_count": 17,
   "metadata": {},
   "outputs": [],
   "source": [
    "\n",
    "def generate_algorand_keypair():\n",
    "    private_key, address = account.generate_account()\n",
    "    print(\"My address: {}\".format(address))\n",
    "    print(\"My private key: {}\".format(private_key))\n",
    "    print(\"My passphrase: {}\".format(mnemonic.from_private_key(private_key)))\n",
    " \n",
    "#generate_algorand_keypair()\n",
    "\n",
    "mnemonic_key = \"drama rhythm boil roast radio shove knee actress shed hidden mercy list parade lady tank check topple point unusual fuel valve market alpha able course\""
   ]
  },
  {
   "cell_type": "code",
   "execution_count": 18,
   "metadata": {},
   "outputs": [],
   "source": [
    "private_key = mnemonic.to_private_key(mnemonic_key)\n",
    "public_key = mnemonic.to_public_key(mnemonic_key)"
   ]
  },
  {
   "cell_type": "code",
   "execution_count": 19,
   "metadata": {},
   "outputs": [],
   "source": [
    "my_address = public_key"
   ]
  },
  {
   "cell_type": "code",
   "execution_count": 20,
   "metadata": {},
   "outputs": [],
   "source": [
    "# def first_transaction_example(private_key, my_address):\n",
    "algod_address = \"http://localhost:4001\"\n",
    "algod_token = \"aaaaaaaaaaaaaaaaaaaaaaaaaaaaaaaaaaaaaaaaaaaaaaaaaaaaaaaaaaaaaaaa\"\n",
    "algod_client = algod.AlgodClient(algod_token, algod_address)"
   ]
  },
  {
   "cell_type": "code",
   "execution_count": 21,
   "metadata": {},
   "outputs": [
    {
     "name": "stdout",
     "output_type": "stream",
     "text": [
      "Account balance: 2000000000000000 microAlgos\n",
      "\n"
     ]
    }
   ],
   "source": [
    "account_info = algod_client.account_info(my_address)\n",
    "print(\"Account balance: {} microAlgos\".format(account_info.get('amount')) + \"\\n\")"
   ]
  },
  {
   "cell_type": "code",
   "execution_count": 22,
   "metadata": {},
   "outputs": [],
   "source": [
    "# build transaction\n",
    "params = algod_client.suggested_params()\n",
    "# comment out the next two (2) lines to use suggested fees\n",
    "params.flat_fee = True\n",
    "params.fee = constants.MIN_TXN_FEE \n",
    "receiver = \"HZ57J3K46JIJXILONBBZOHX6BKPXEM2VVXNRFSUED6DKFD5ZD24PMJ3MVA\"\n",
    "note = \"Hello World\".encode()\n",
    "amount = 1000000\n",
    "unsigned_txn = transaction.PaymentTxn(my_address, params, receiver, amount, None, note)"
   ]
  },
  {
   "cell_type": "code",
   "execution_count": 23,
   "metadata": {},
   "outputs": [
    {
     "name": "stdout",
     "output_type": "stream",
     "text": [
      "Successfully sent transaction with txID: YL35TMOLORWU3UYTDEMTKUYH357XLYA2QN4DDQZ7MOHWRKLKITWQ\n"
     ]
    }
   ],
   "source": [
    "# sign transaction\n",
    "signed_txn = unsigned_txn.sign(private_key)\n",
    "\n",
    "\n",
    "#submit transaction\n",
    "txid = algod_client.send_transaction(signed_txn)\n",
    "print(\"Successfully sent transaction with txID: {}\".format(txid))"
   ]
  },
  {
   "cell_type": "code",
   "execution_count": 24,
   "metadata": {},
   "outputs": [
    {
     "name": "stdout",
     "output_type": "stream",
     "text": [
      "Transaction information: {\n",
      "    \"confirmed-round\": 1,\n",
      "    \"pool-error\": \"\",\n",
      "    \"txn\": {\n",
      "        \"sig\": \"TTyD5JtjZVysryi5Z9fn4zygIYYznNvzCzDna7mP+AAaCXD4raisUB632jNj5cb0phAjVPriA+CSATg4bzDNCA==\",\n",
      "        \"txn\": {\n",
      "            \"amt\": 1000000,\n",
      "            \"fee\": 1000,\n",
      "            \"gen\": \"sandnet-v1\",\n",
      "            \"gh\": \"hRK9Pz8W2qlql3J7WvcFNxv+Pr2nwOTm0terA37xQ3U=\",\n",
      "            \"lv\": 1000,\n",
      "            \"note\": \"SGVsbG8gV29ybGQ=\",\n",
      "            \"rcv\": \"HZ57J3K46JIJXILONBBZOHX6BKPXEM2VVXNRFSUED6DKFD5ZD24PMJ3MVA\",\n",
      "            \"snd\": \"2C7WW4DFVOV5LUWUEWIIR4MO5YVCMPU7NAN35TLOFFPB45TQETDRZFUVX4\",\n",
      "            \"type\": \"pay\"\n",
      "        }\n",
      "    }\n",
      "}\n",
      "Decoded note: Hello World\n",
      "Starting Account balance: 2000000000000000 microAlgos\n",
      "Amount transfered: 1000000 microAlgos\n",
      "Fee: 1000 microAlgos\n"
     ]
    }
   ],
   "source": [
    "# wait for confirmation \n",
    "try:\n",
    "    confirmed_txn = transaction.wait_for_confirmation(algod_client, txid, 4)  \n",
    "except Exception as err:\n",
    "    print(err)\n",
    "    #return\n",
    "\n",
    "print(\"Transaction information: {}\".format(\n",
    "    json.dumps(confirmed_txn, indent=4)))\n",
    "print(\"Decoded note: {}\".format(base64.b64decode(\n",
    "    confirmed_txn[\"txn\"][\"txn\"][\"note\"]).decode()))\n",
    "print(\"Starting Account balance: {} microAlgos\".format(account_info.get('amount')) )\n",
    "print(\"Amount transfered: {} microAlgos\".format(amount) )    \n",
    "print(\"Fee: {} microAlgos\".format(params.fee) ) "
   ]
  },
  {
   "cell_type": "code",
   "execution_count": 25,
   "metadata": {},
   "outputs": [
    {
     "name": "stdout",
     "output_type": "stream",
     "text": [
      "Final Account balance: 1999999998999000 microAlgos\n",
      "\n"
     ]
    }
   ],
   "source": [
    "account_info = algod_client.account_info(my_address)\n",
    "print(\"Final Account balance: {} microAlgos\".format(account_info.get('amount')) + \"\\n\")\n",
    "\n",
    "# replace private_key and my_address with your private key and your address.\n",
    "# first_transaction_example(\"S5YqohTEKPnn75w82YUxPDNiKVVmBPY32TZjyqF+HOzL02I/6ged+qL8ICOiyQrZxsxs1Hg0Ix5ZQjufzRjUig==\",\"ZPJWEP7KA6O7VIX4EAR2FSIK3HDMY3GUPA2CGHSZII5Z7TIY2SFCL5DZBQ\")"
   ]
  }
 ],
 "metadata": {
  "kernelspec": {
   "display_name": "Python 3.9.12 ('web3_dApp': venv)",
   "language": "python",
   "name": "python3"
  },
  "language_info": {
   "codemirror_mode": {
    "name": "ipython",
    "version": 3
   },
   "file_extension": ".py",
   "mimetype": "text/x-python",
   "name": "python",
   "nbconvert_exporter": "python",
   "pygments_lexer": "ipython3",
   "version": "3.9.12"
  },
  "orig_nbformat": 4,
  "vscode": {
   "interpreter": {
    "hash": "1c9d120bbea32cbb4621d56dc13f34b35a855ed3b8ec78fa2e6fd440a99f2394"
   }
  }
 },
 "nbformat": 4,
 "nbformat_minor": 2
}
